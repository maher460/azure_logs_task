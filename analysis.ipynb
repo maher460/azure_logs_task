{
 "cells": [
  {
   "cell_type": "markdown",
   "metadata": {},
   "source": [
    "Work in progress..."
   ]
  },
  {
   "cell_type": "code",
   "execution_count": null,
   "metadata": {},
   "outputs": [],
   "source": [
    "import duckdb\n",
    "import os\n",
    "import pandas as pd"
   ]
  },
  {
   "cell_type": "code",
   "execution_count": null,
   "metadata": {},
   "outputs": [],
   "source": [
    "# Directory where Parquet files are stored\n",
    "parquet_dir = \"./parquet_data\""
   ]
  },
  {
   "cell_type": "code",
   "execution_count": null,
   "metadata": {},
   "outputs": [],
   "source": [
    "# Initialize DuckDB connection\n",
    "con = duckdb.connect(database=':memory:')  # Use in-memory database\n",
    "# con = duckdb.connect(\"azure_logs.db\")"
   ]
  },
  {
   "cell_type": "code",
   "execution_count": null,
   "metadata": {},
   "outputs": [],
   "source": [
    "parquet_file = os.path.join(parquet_dir,\"insights-logs-auditlogs\",\"20240619\",\"data.parquet\")"
   ]
  },
  {
   "cell_type": "code",
   "execution_count": null,
   "metadata": {},
   "outputs": [],
   "source": [
    "con.execute(f\"SELECT * FROM read_parquet('{parquet_file}') LIMIT 1\").fetchall()"
   ]
  },
  {
   "cell_type": "code",
   "execution_count": null,
   "metadata": {},
   "outputs": [],
   "source": [
    "df = con.execute(f\"SELECT * FROM read_parquet('{parquet_file}') LIMIT 1\").df()\n",
    "\n",
    "# Print the column names\n",
    "print(df.columns.tolist())"
   ]
  },
  {
   "cell_type": "code",
   "execution_count": null,
   "metadata": {},
   "outputs": [],
   "source": [
    "df\n",
    "\n",
    "con.close()"
   ]
  },
  {
   "cell_type": "code",
   "execution_count": null,
   "metadata": {},
   "outputs": [],
   "source": [
    "# Directory where Parquet files are stored\n",
    "auditlogs_dir = \"./parquet_data/insights-logs-auditlogs\"\n",
    "signinlogs_dir = \"./parquet_data/insights-logs-signinlogs\"\n",
    "\n",
    "# Initialize DuckDB connection\n",
    "# con = duckdb.connect(database=':memory:')  # Use in-memory database for this example\n",
    "\n",
    "con = duckdb.connect(\"azure_logs_2.db\")\n",
    "\n"
   ]
  },
  {
   "cell_type": "code",
   "execution_count": null,
   "metadata": {},
   "outputs": [],
   "source": [
    "auditlogs_combined_file = os.path.join(auditlogs_dir, \"combined_table.parquet\")\n",
    "signinlogs_combined_file = os.path.join(signinlogs_dir, \"combined_table.parquet\")\n",
    "\n",
    "con.execute(f\"DROP TABLE IF EXISTS combined_table_auditlogs\")\n",
    "con.execute(f\"DROP TABLE IF EXISTS combined_table_signinlogs\")\n",
    "con.execute(f\"CREATE TABLE combined_table_auditlogs AS SELECT * FROM read_parquet('{auditlogs_combined_file}')\")\n",
    "con.execute(f\"CREATE TABLE combined_table_signinlogs AS SELECT * FROM read_parquet('{signinlogs_combined_file}')\")\n",
    "    "
   ]
  },
  {
   "cell_type": "code",
   "execution_count": null,
   "metadata": {},
   "outputs": [],
   "source": [
    "df = con.execute(\"DESCRIBE SELECT * FROM combined_table_auditlogs\").df()\n",
    "df"
   ]
  },
  {
   "cell_type": "code",
   "execution_count": null,
   "metadata": {},
   "outputs": [],
   "source": [
    "df = con.execute(\"SELECT * FROM combined_table_auditlogs LIMIT 30\").df()\n",
    "df"
   ]
  },
  {
   "cell_type": "code",
   "execution_count": null,
   "metadata": {},
   "outputs": [],
   "source": [
    "df = con.execute(\"DESCRIBE SELECT * FROM combined_table_signinlogs\").df()\n",
    "df"
   ]
  },
  {
   "cell_type": "code",
   "execution_count": null,
   "metadata": {},
   "outputs": [],
   "source": [
    "df = con.execute(\"SELECT * FROM combined_table_signinlogs LIMIT 30\").df()\n",
    "df"
   ]
  },
  {
   "cell_type": "code",
   "execution_count": null,
   "metadata": {},
   "outputs": [],
   "source": [
    "query = '''SELECT \"time\", \"properties.initiatedBy.user.id\", \"properties.initiatedBy.user.displayName\", \"properties.initiatedBy.user.userPrincipalName\", \"properties.initiatedBy.user.ipAddress\" FROM combined_table_auditlogs WHERE \"properties.initiatedBy.user.id\"='REDACTED' LIMIT 30;'''\n",
    "\n",
    "\n",
    "# query = 'SELECT \"time\", \"properties.initiatedBy.user.id\", \"properties.initiatedBy.user.displayName\", \"properties.initiatedBy.user.userPrincipalName\", \"properties.initiatedBy.user.ipAddress\" FROM combined_table_auditlogs LIMIT 30'\n",
    "\n",
    "df = con.execute(query).df()\n",
    "df"
   ]
  },
  {
   "cell_type": "code",
   "execution_count": null,
   "metadata": {},
   "outputs": [],
   "source": [
    "query = 'SELECT \"time\", \"properties.userId\", \"properties.userPrincipalName\", \"properties.userDisplayName\", \"properties.ipAddress\" FROM combined_table_signinlogs LIMIT 30'\n",
    "\n",
    "df = con.execute(query).df()\n",
    "df"
   ]
  },
  {
   "cell_type": "code",
   "execution_count": null,
   "metadata": {},
   "outputs": [],
   "source": [
    "con.execute(\"DROP TABLE IF EXISTS sessions\")\n",
    "\n",
    "query = '''\n",
    "CREATE TABLE sessions AS\n",
    "SELECT\n",
    "    ROW_NUMBER() OVER () AS session_id,\n",
    "    MIN(CAST(\"time\" AS TIMESTAMP)) AS start_time,\n",
    "    \"properties.userId\" AS user_id,\n",
    "    \"properties.userPrincipalName\" AS user_principal_name,\n",
    "    \"properties.ipAddress\" AS ip_address,\n",
    "    MIN(CAST(\"time\" AS TIMESTAMP)) AS session_start,\n",
    "    MAX(CAST(\"time\" AS TIMESTAMP)) + INTERVAL '2 hour' AS session_end\n",
    "FROM\n",
    "    combined_table_signinlogs\n",
    "GROUP BY\n",
    "    user_id,\n",
    "    user_principal_name,\n",
    "    ip_address,\n",
    "    DATE_TRUNC('hour', CAST(\"time\" AS TIMESTAMP))\n",
    "HAVING\n",
    "    COUNT(*) > 1; \n",
    "'''\n",
    "\n",
    "con.execute(query)\n",
    "\n",
    "df = con.execute(\"SELECT * FROM sessions\").df()\n",
    "df"
   ]
  },
  {
   "cell_type": "code",
   "execution_count": null,
   "metadata": {},
   "outputs": [],
   "source": [
    "query = '''\n",
    "ALTER TABLE combined_table_signinlogs ADD COLUMN sessionId VARCHAR;\n",
    "\n",
    "UPDATE combined_table_signinlogs AS signin\n",
    "SET sessionId = (\n",
    "    SELECT sess.session_id\n",
    "    FROM sessions AS sess\n",
    "    WHERE signin.\"properties.userId\" = sess.user_id\n",
    "      AND signin.\"properties.userPrincipalName\" = sess.user_principal_name\n",
    "      AND signin.\"properties.ipAddress\" = sess.ip_address\n",
    "      AND CAST(signin.\"time\" AS TIMESTAMP) BETWEEN sess.session_start AND sess.session_end\n",
    ")\n",
    "'''\n",
    "con.execute(query)"
   ]
  },
  {
   "cell_type": "code",
   "execution_count": null,
   "metadata": {},
   "outputs": [],
   "source": [
    "query='''\n",
    "ALTER TABLE combined_table_auditlogs ADD COLUMN sessionId VARCHAR;\n",
    "\n",
    "UPDATE combined_table_auditlogs AS audit\n",
    "SET sessionId = (\n",
    "    SELECT sess.session_id\n",
    "    FROM sessions AS sess\n",
    "    WHERE audit.\"properties.initiatedBy.user.id\" = sess.user_id\n",
    "      AND audit.\"properties.initiatedBy.user.userPrincipalName\" = sess.user_principal_name\n",
    "      AND audit.\"properties.initiatedBy.user.ipAddress\" = sess.ip_address\n",
    "      AND CAST(audit.\"time\" AS TIMESTAMP) BETWEEN sess.session_start AND sess.session_end\n",
    ")\n",
    "'''\n",
    "con.execute(query)"
   ]
  },
  {
   "cell_type": "code",
   "execution_count": null,
   "metadata": {},
   "outputs": [],
   "source": [
    "# query = '''SELECT * FROM combined_table_signinlogs WHERE \"properties.userId\"='REDACTED' and \"properties.uniqueTokenIdentifier\"='REDACTED' LIMIT 30;'''\n",
    "\n",
    "# query = '''SELECT \"sessionId\", \"time\", \"properties.initiatedBy.user.id\", \"properties.initiatedBy.user.displayName\", \"properties.initiatedBy.user.userPrincipalName\", \"properties.initiatedBy.user.ipAddress\" FROM combined_table_logs WHERE \"properties.initiatedBy.user.id\"='REDACTED' LIMIT 30;'''\n",
    "\n",
    "# query = 'SELECT \"sessionId\", \"time\", \"properties.initiatedBy.user.id\", \"properties.initiatedBy.user.displayName\", \"properties.initiatedBy.user.userPrincipalName\", \"properties.initiatedBy.user.ipAddress\" FROM combined_table_auditlogs LIMIT 30'\n",
    "\n",
    "# query = '''SELECT \"properties.correlationId\" FROM combined_table_auditlogs'''\n",
    "\n",
    "# query = '''SELECT * FROM combined_table_signinlogs WHERE \"properties.correlationId\"='REDACTED' '''\n",
    "\n",
    "query = '''SELECT signins.\"operationName\", audits.\"properties.operationName\" FROM combined_table_signinlogs AS signins JOIN combined_table_auditlogs as audits ON signins.correlationId = audits.\"properties.correlationId\" '''\n",
    "\n",
    "df = con.execute(query).df()\n",
    "df.value_counts()"
   ]
  },
  {
   "cell_type": "code",
   "execution_count": null,
   "metadata": {},
   "outputs": [],
   "source": [
    "query = 'SELECT \"sessionId\", \"time\", \"properties.userId\", \"properties.userPrincipalName\", \"properties.userDisplayName\", \"properties.ipAddress\" FROM combined_table_signinlogs LIMIT 30'\n",
    "\n",
    "df = con.execute(query).df()\n",
    "df"
   ]
  },
  {
   "cell_type": "code",
   "execution_count": null,
   "metadata": {},
   "outputs": [],
   "source": [
    "con.close()"
   ]
  }
 ],
 "metadata": {
  "kernelspec": {
   "display_name": ".venv",
   "language": "python",
   "name": "python3"
  },
  "language_info": {
   "codemirror_mode": {
    "name": "ipython",
    "version": 3
   },
   "file_extension": ".py",
   "mimetype": "text/x-python",
   "name": "python",
   "nbconvert_exporter": "python",
   "pygments_lexer": "ipython3",
   "version": "3.10.12"
  }
 },
 "nbformat": 4,
 "nbformat_minor": 2
}
